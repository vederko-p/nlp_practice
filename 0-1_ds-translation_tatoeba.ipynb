{
 "cells": [
  {
   "cell_type": "code",
   "execution_count": 1,
   "id": "cdb73d1e-76fd-4dcf-92ac-d85fd41444e6",
   "metadata": {},
   "outputs": [],
   "source": [
    "import os\n",
    "\n",
    "import pandas as pd\n",
    "from sklearn.model_selection import train_test_split"
   ]
  },
  {
   "cell_type": "markdown",
   "id": "94af4bb3-86f8-4104-91fc-adc8f986e3ec",
   "metadata": {},
   "source": [
    "# 1. Parsing"
   ]
  },
  {
   "cell_type": "code",
   "execution_count": 2,
   "id": "00264c2e-079c-4edb-af11-7aa5bfe0c0ea",
   "metadata": {},
   "outputs": [],
   "source": [
    "DATA_ROOT_P = '/mnt/data/DatasetsML/NLP/translation/tatoeba_bilingual_sentence_pairs/data'\n",
    "\n",
    "DATA_P = os.path.join(DATA_ROOT_P, 'eng_fre.csv')"
   ]
  },
  {
   "cell_type": "code",
   "execution_count": 3,
   "id": "6c5aed69-5c75-4535-ab67-f47d8b9da057",
   "metadata": {},
   "outputs": [
    {
     "data": {
      "text/plain": [
       "(232736, 2)"
      ]
     },
     "execution_count": 3,
     "metadata": {},
     "output_type": "execute_result"
    }
   ],
   "source": [
    "data_enf_fre_df = pd.read_csv(DATA_P)\n",
    "data_enf_fre_df.shape"
   ]
  },
  {
   "cell_type": "code",
   "execution_count": 4,
   "id": "244e77f9-1f55-4461-9359-4243a76bff8a",
   "metadata": {},
   "outputs": [
    {
     "data": {
      "text/html": [
       "<div>\n",
       "<style scoped>\n",
       "    .dataframe tbody tr th:only-of-type {\n",
       "        vertical-align: middle;\n",
       "    }\n",
       "\n",
       "    .dataframe tbody tr th {\n",
       "        vertical-align: top;\n",
       "    }\n",
       "\n",
       "    .dataframe thead th {\n",
       "        text-align: right;\n",
       "    }\n",
       "</style>\n",
       "<table border=\"1\" class=\"dataframe\">\n",
       "  <thead>\n",
       "    <tr style=\"text-align: right;\">\n",
       "      <th></th>\n",
       "      <th>Eng</th>\n",
       "      <th>Fre</th>\n",
       "    </tr>\n",
       "  </thead>\n",
       "  <tbody>\n",
       "    <tr>\n",
       "      <th>41020</th>\n",
       "      <td>I hate losing money.</td>\n",
       "      <td>Je déteste perdre de l'argent.</td>\n",
       "    </tr>\n",
       "    <tr>\n",
       "      <th>41021</th>\n",
       "      <td>I hate taking risks.</td>\n",
       "      <td>Je n'aime pas prendre de risque.</td>\n",
       "    </tr>\n",
       "    <tr>\n",
       "      <th>41022</th>\n",
       "      <td>I hate taking risks.</td>\n",
       "      <td>Je déteste prendre des risques.</td>\n",
       "    </tr>\n",
       "    <tr>\n",
       "      <th>41023</th>\n",
       "      <td>I hate that so much.</td>\n",
       "      <td>Je déteste tellement ça.</td>\n",
       "    </tr>\n",
       "    <tr>\n",
       "      <th>41024</th>\n",
       "      <td>I hate these things.</td>\n",
       "      <td>Je déteste ces choses.</td>\n",
       "    </tr>\n",
       "    <tr>\n",
       "      <th>41025</th>\n",
       "      <td>I hate this costume.</td>\n",
       "      <td>Je déteste ce costume-ci.</td>\n",
       "    </tr>\n",
       "    <tr>\n",
       "      <th>41026</th>\n",
       "      <td>I hate this uniform.</td>\n",
       "      <td>Je déteste cet uniforme.</td>\n",
       "    </tr>\n",
       "    <tr>\n",
       "      <th>41027</th>\n",
       "      <td>I hate this weather.</td>\n",
       "      <td>Je déteste ce temps.</td>\n",
       "    </tr>\n",
       "    <tr>\n",
       "      <th>41028</th>\n",
       "      <td>I hate those things.</td>\n",
       "      <td>Je déteste ces choses.</td>\n",
       "    </tr>\n",
       "    <tr>\n",
       "      <th>41029</th>\n",
       "      <td>I hate to eat alone.</td>\n",
       "      <td>Je déteste manger seul.</td>\n",
       "    </tr>\n",
       "  </tbody>\n",
       "</table>\n",
       "</div>"
      ],
      "text/plain": [
       "                        Eng                               Fre\n",
       "41020  I hate losing money.    Je déteste perdre de l'argent.\n",
       "41021  I hate taking risks.  Je n'aime pas prendre de risque.\n",
       "41022  I hate taking risks.   Je déteste prendre des risques.\n",
       "41023  I hate that so much.          Je déteste tellement ça.\n",
       "41024  I hate these things.            Je déteste ces choses.\n",
       "41025  I hate this costume.         Je déteste ce costume-ci.\n",
       "41026  I hate this uniform.          Je déteste cet uniforme.\n",
       "41027  I hate this weather.              Je déteste ce temps.\n",
       "41028  I hate those things.            Je déteste ces choses.\n",
       "41029  I hate to eat alone.           Je déteste manger seul."
      ]
     },
     "execution_count": 4,
     "metadata": {},
     "output_type": "execute_result"
    }
   ],
   "source": [
    "data_enf_fre_df.iloc[41020:41030]"
   ]
  },
  {
   "cell_type": "code",
   "execution_count": 5,
   "id": "d8d3324a-7496-4d09-aeca-c0ea725081ff",
   "metadata": {},
   "outputs": [
    {
     "data": {
      "text/plain": [
       "(166561, 2)"
      ]
     },
     "execution_count": 5,
     "metadata": {},
     "output_type": "execute_result"
    }
   ],
   "source": [
    "# remove duplicates\n",
    "data_enf_fre_df_unique = data_enf_fre_df[~data_enf_fre_df['Eng'].duplicated()]\n",
    "data_enf_fre_df_unique.shape"
   ]
  },
  {
   "cell_type": "code",
   "execution_count": 6,
   "id": "a6cc39ca-4b9d-4ae5-b481-f37847475b81",
   "metadata": {},
   "outputs": [
    {
     "data": {
      "text/html": [
       "<div>\n",
       "<style scoped>\n",
       "    .dataframe tbody tr th:only-of-type {\n",
       "        vertical-align: middle;\n",
       "    }\n",
       "\n",
       "    .dataframe tbody tr th {\n",
       "        vertical-align: top;\n",
       "    }\n",
       "\n",
       "    .dataframe thead th {\n",
       "        text-align: right;\n",
       "    }\n",
       "</style>\n",
       "<table border=\"1\" class=\"dataframe\">\n",
       "  <thead>\n",
       "    <tr style=\"text-align: right;\">\n",
       "      <th></th>\n",
       "      <th>Eng</th>\n",
       "      <th>Fre</th>\n",
       "    </tr>\n",
       "  </thead>\n",
       "  <tbody>\n",
       "    <tr>\n",
       "      <th>0</th>\n",
       "      <td>Go.</td>\n",
       "      <td>Va !</td>\n",
       "    </tr>\n",
       "    <tr>\n",
       "      <th>4</th>\n",
       "      <td>Hi.</td>\n",
       "      <td>Salut !</td>\n",
       "    </tr>\n",
       "    <tr>\n",
       "      <th>6</th>\n",
       "      <td>Run!</td>\n",
       "      <td>Cours !</td>\n",
       "    </tr>\n",
       "    <tr>\n",
       "      <th>14</th>\n",
       "      <td>Run.</td>\n",
       "      <td>Cours !</td>\n",
       "    </tr>\n",
       "    <tr>\n",
       "      <th>22</th>\n",
       "      <td>Who?</td>\n",
       "      <td>Qui ?</td>\n",
       "    </tr>\n",
       "    <tr>\n",
       "      <th>23</th>\n",
       "      <td>Wow!</td>\n",
       "      <td>Ça alors !</td>\n",
       "    </tr>\n",
       "    <tr>\n",
       "      <th>26</th>\n",
       "      <td>Duck!</td>\n",
       "      <td>À terre !</td>\n",
       "    </tr>\n",
       "    <tr>\n",
       "      <th>29</th>\n",
       "      <td>Fire!</td>\n",
       "      <td>Au feu !</td>\n",
       "    </tr>\n",
       "    <tr>\n",
       "      <th>30</th>\n",
       "      <td>Help!</td>\n",
       "      <td>À l'aide !</td>\n",
       "    </tr>\n",
       "    <tr>\n",
       "      <th>31</th>\n",
       "      <td>Hide.</td>\n",
       "      <td>Cache-toi.</td>\n",
       "    </tr>\n",
       "    <tr>\n",
       "      <th>33</th>\n",
       "      <td>Jump!</td>\n",
       "      <td>Saute.</td>\n",
       "    </tr>\n",
       "    <tr>\n",
       "      <th>34</th>\n",
       "      <td>Jump.</td>\n",
       "      <td>Saute.</td>\n",
       "    </tr>\n",
       "    <tr>\n",
       "      <th>35</th>\n",
       "      <td>Stop!</td>\n",
       "      <td>Ça suffit !</td>\n",
       "    </tr>\n",
       "    <tr>\n",
       "      <th>38</th>\n",
       "      <td>Wait!</td>\n",
       "      <td>Attends !</td>\n",
       "    </tr>\n",
       "    <tr>\n",
       "      <th>41</th>\n",
       "      <td>Wait.</td>\n",
       "      <td>Attends !</td>\n",
       "    </tr>\n",
       "  </tbody>\n",
       "</table>\n",
       "</div>"
      ],
      "text/plain": [
       "      Eng          Fre\n",
       "0     Go.         Va !\n",
       "4     Hi.      Salut !\n",
       "6    Run!      Cours !\n",
       "14   Run.      Cours !\n",
       "22   Who?        Qui ?\n",
       "23   Wow!   Ça alors !\n",
       "26  Duck!    À terre !\n",
       "29  Fire!     Au feu !\n",
       "30  Help!   À l'aide !\n",
       "31  Hide.   Cache-toi.\n",
       "33  Jump!       Saute.\n",
       "34  Jump.       Saute.\n",
       "35  Stop!  Ça suffit !\n",
       "38  Wait!    Attends !\n",
       "41  Wait.    Attends !"
      ]
     },
     "execution_count": 6,
     "metadata": {},
     "output_type": "execute_result"
    }
   ],
   "source": [
    "data_enf_fre_df_unique.iloc[:15]"
   ]
  },
  {
   "cell_type": "markdown",
   "id": "612545cc-1237-47a8-bd7b-fb7cb9247bac",
   "metadata": {},
   "source": [
    "# 2. Train Test Split"
   ]
  },
  {
   "cell_type": "code",
   "execution_count": 7,
   "id": "fb73f13a-3176-4615-b7f3-3c29037fb0b2",
   "metadata": {},
   "outputs": [
    {
     "name": "stdout",
     "output_type": "stream",
     "text": [
      "train: 149904\n",
      "test: 16657\n"
     ]
    }
   ],
   "source": [
    "train_df, test_df = train_test_split(data_enf_fre_df_unique, test_size=0.1, random_state=42)\n",
    "\n",
    "print(f'train: {train_df.shape[0]}')\n",
    "print(f'test: {test_df.shape[0]}')"
   ]
  },
  {
   "cell_type": "code",
   "execution_count": 8,
   "id": "d50d2fe1-4920-44e7-8277-2c20bf394ec1",
   "metadata": {},
   "outputs": [],
   "source": [
    "DATASET_ROOT_P = os.path.join('datasets')\n",
    "\n",
    "TRAIN_P = os.path.join(DATASET_ROOT_P, 'translation_tatoeba_train.csv')\n",
    "TEST_P = os.path.join(DATASET_ROOT_P, 'translation_tatoeba_test.csv')"
   ]
  },
  {
   "cell_type": "code",
   "execution_count": 9,
   "id": "f8f3aae7-ea64-468e-a6d0-89467386e11e",
   "metadata": {},
   "outputs": [],
   "source": [
    "# train_df.to_csv(TRAIN_P, index=False)\n",
    "# test_df.to_csv(TEST_P, index=False)"
   ]
  },
  {
   "cell_type": "code",
   "execution_count": 10,
   "id": "5005b7a5-4fb0-413f-90f4-35e097964dde",
   "metadata": {},
   "outputs": [
    {
     "name": "stdout",
     "output_type": "stream",
     "text": [
      "train: 149904\n",
      "test: 16657\n"
     ]
    }
   ],
   "source": [
    "train_df = pd.read_csv(TRAIN_P)\n",
    "test_df = pd.read_csv(TEST_P)\n",
    "\n",
    "print(f'train: {train_df.shape[0]}')\n",
    "print(f'test: {test_df.shape[0]}')"
   ]
  },
  {
   "cell_type": "code",
   "execution_count": 11,
   "id": "6c80a9c6-6045-4978-961c-83b0d21577b2",
   "metadata": {},
   "outputs": [
    {
     "data": {
      "text/html": [
       "<div>\n",
       "<style scoped>\n",
       "    .dataframe tbody tr th:only-of-type {\n",
       "        vertical-align: middle;\n",
       "    }\n",
       "\n",
       "    .dataframe tbody tr th {\n",
       "        vertical-align: top;\n",
       "    }\n",
       "\n",
       "    .dataframe thead th {\n",
       "        text-align: right;\n",
       "    }\n",
       "</style>\n",
       "<table border=\"1\" class=\"dataframe\">\n",
       "  <thead>\n",
       "    <tr style=\"text-align: right;\">\n",
       "      <th></th>\n",
       "      <th>Eng</th>\n",
       "      <th>Fre</th>\n",
       "    </tr>\n",
       "  </thead>\n",
       "  <tbody>\n",
       "    <tr>\n",
       "      <th>0</th>\n",
       "      <td>I made a lot of mistakes.</td>\n",
       "      <td>J'ai commis de nombreuses erreurs.</td>\n",
       "    </tr>\n",
       "    <tr>\n",
       "      <th>1</th>\n",
       "      <td>I think I've already given you enough money.</td>\n",
       "      <td>Je pense que je t'ai déjà donné suffisamment d...</td>\n",
       "    </tr>\n",
       "    <tr>\n",
       "      <th>2</th>\n",
       "      <td>No one knows why Tom wanted to do that.</td>\n",
       "      <td>Personne ne sait pourquoi Tom voulait faire ça.</td>\n",
       "    </tr>\n",
       "  </tbody>\n",
       "</table>\n",
       "</div>"
      ],
      "text/plain": [
       "                                            Eng  \\\n",
       "0                     I made a lot of mistakes.   \n",
       "1  I think I've already given you enough money.   \n",
       "2       No one knows why Tom wanted to do that.   \n",
       "\n",
       "                                                 Fre  \n",
       "0                 J'ai commis de nombreuses erreurs.  \n",
       "1  Je pense que je t'ai déjà donné suffisamment d...  \n",
       "2    Personne ne sait pourquoi Tom voulait faire ça.  "
      ]
     },
     "execution_count": 11,
     "metadata": {},
     "output_type": "execute_result"
    }
   ],
   "source": [
    "train_df.head(3)"
   ]
  },
  {
   "cell_type": "code",
   "execution_count": 12,
   "id": "5a345ab4-c00a-4825-b737-0d422ee7e298",
   "metadata": {},
   "outputs": [
    {
     "data": {
      "text/html": [
       "<div>\n",
       "<style scoped>\n",
       "    .dataframe tbody tr th:only-of-type {\n",
       "        vertical-align: middle;\n",
       "    }\n",
       "\n",
       "    .dataframe tbody tr th {\n",
       "        vertical-align: top;\n",
       "    }\n",
       "\n",
       "    .dataframe thead th {\n",
       "        text-align: right;\n",
       "    }\n",
       "</style>\n",
       "<table border=\"1\" class=\"dataframe\">\n",
       "  <thead>\n",
       "    <tr style=\"text-align: right;\">\n",
       "      <th></th>\n",
       "      <th>Eng</th>\n",
       "      <th>Fre</th>\n",
       "    </tr>\n",
       "  </thead>\n",
       "  <tbody>\n",
       "    <tr>\n",
       "      <th>0</th>\n",
       "      <td>Do you want a few more minutes?</td>\n",
       "      <td>Veux-tu quelques minutes de plus ?</td>\n",
       "    </tr>\n",
       "    <tr>\n",
       "      <th>1</th>\n",
       "      <td>The weather will definitely be good tomorrow.</td>\n",
       "      <td>C'est sûr que demain le temps sera beau.</td>\n",
       "    </tr>\n",
       "    <tr>\n",
       "      <th>2</th>\n",
       "      <td>That's about all.</td>\n",
       "      <td>C'est à peu près tout.</td>\n",
       "    </tr>\n",
       "  </tbody>\n",
       "</table>\n",
       "</div>"
      ],
      "text/plain": [
       "                                             Eng  \\\n",
       "0                Do you want a few more minutes?   \n",
       "1  The weather will definitely be good tomorrow.   \n",
       "2                              That's about all.   \n",
       "\n",
       "                                        Fre  \n",
       "0        Veux-tu quelques minutes de plus ?  \n",
       "1  C'est sûr que demain le temps sera beau.  \n",
       "2                    C'est à peu près tout.  "
      ]
     },
     "execution_count": 12,
     "metadata": {},
     "output_type": "execute_result"
    }
   ],
   "source": [
    "test_df.head(3)"
   ]
  },
  {
   "cell_type": "code",
   "execution_count": null,
   "id": "e73cc02a-db5c-489c-83b5-b8abd0c01b30",
   "metadata": {},
   "outputs": [],
   "source": []
  }
 ],
 "metadata": {
  "kernelspec": {
   "display_name": "Python 3 (ipykernel)",
   "language": "python",
   "name": "python3"
  },
  "language_info": {
   "codemirror_mode": {
    "name": "ipython",
    "version": 3
   },
   "file_extension": ".py",
   "mimetype": "text/x-python",
   "name": "python",
   "nbconvert_exporter": "python",
   "pygments_lexer": "ipython3",
   "version": "3.9.19"
  }
 },
 "nbformat": 4,
 "nbformat_minor": 5
}
