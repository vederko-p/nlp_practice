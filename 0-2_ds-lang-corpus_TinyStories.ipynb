{
 "cells": [
  {
   "cell_type": "code",
   "execution_count": 1,
   "id": "0f498a7b-e2e8-4f3a-9d57-4597f511db7a",
   "metadata": {},
   "outputs": [],
   "source": [
    "import os\n",
    "import utils"
   ]
  },
  {
   "cell_type": "markdown",
   "id": "6de6b0b1-e124-44db-8923-f5e3e937854e",
   "metadata": {},
   "source": [
    "# 1. Parsing"
   ]
  },
  {
   "cell_type": "code",
   "execution_count": 2,
   "id": "80c68a2d-cf10-4673-abe9-6ed6c540b1b7",
   "metadata": {},
   "outputs": [],
   "source": [
    "DATA_ROOT_P = '/mnt/data/DatasetsML/NLP/natural_language_corpus/tiny_stories'\n",
    "\n",
    "TRAIN_P = os.path.join(DATA_ROOT_P, 'TinyStoriesV2-GPT4-train.txt')\n",
    "VALID_P = os.path.join(DATA_ROOT_P, 'TinyStoriesV2-GPT4-valid.txt')"
   ]
  },
  {
   "cell_type": "code",
   "execution_count": 3,
   "id": "f86a6be9-5b76-4c3c-be22-7fe9086de214",
   "metadata": {},
   "outputs": [
    {
     "name": "stdout",
     "output_type": "stream",
     "text": [
      "valid: 157832\n"
     ]
    }
   ],
   "source": [
    "# train_lines = read_lines(TRAIN_P)\n",
    "valid_lines = utils.read_lines(VALID_P)\n",
    "\n",
    "# print(f'train: {len(train_lines)}')\n",
    "print(f'valid: {len(valid_lines)}')"
   ]
  },
  {
   "cell_type": "code",
   "execution_count": 4,
   "id": "06fa1f4f-ed84-439a-824f-655f4683f4f2",
   "metadata": {},
   "outputs": [
    {
     "name": "stdout",
     "output_type": "stream",
     "text": [
      "u don't have to be scared of the loud dog, I'll protect you\". The mole felt so safe with the little girl. She was very kind and the mole soon came to trust her. He leaned against her and she kept him safe. The mole had found his best friend.\n",
      "<|endoftext|>\n",
      "Once upon a time, in a warm and sunny place, there was a big pit. A little boy named Tom liked to play near the pit. One day, Tom lost his red ball. He was very sad.\n",
      "Tom asked his friend, Sam, to help him search for the ball. They looked high and low, but they could not find the ball. Tom said, \"I think my ball fell into the pit.\"\n",
      "Sam and Tom went close to the pit. They were scared, but they wanted to find the red ball. They looked into the pit, but it was too dark to see. Tom said, \"We must go in and search for my ball.\"\n",
      "They went into the pit to search. It was dark and scary. They could not find the ball. They tried to get out, but the pit was too deep. Tom and Sam were stuck in the pit. They called for help, but no one could hear them. They were sad and scared, and they never got out of the pit.\n",
      "<|endoftext|>\n",
      "\n",
      "\n",
      "Tom and Lily were playing with their toys in the living room. They liked to build towers and bridges with their blocks and cars. Tom was very proud of his tall tower. He wanted to make it even taller, so he reached for more blocks.\n",
      "\"Tom, can I have some blocks too?\" Lily asked. She wanted to make a bridge for her cars.\n",
      "\"No, these are mine. Go find your own,\" Tom said. He did not want to share with his sister. He pulled the blocks closer to him.\n",
      "Lily felt sad and angry. She did not think Tom was being nice. She looked at his tower and had an idea. She decided to pull one of the blocks at the bottom of the tower.\n",
      "Suddenly, the tower fell down with a loud crash. All the blocks and cars scattered on the floor. Tom and Lily were shocked. They felt the floor shake and heard a rumble. It was an earthquake!\n",
      "\"Mommy! Daddy!\" they cried. They were scared and ran to their parents, who were in the kitchen.\n",
      "\"Are you okay, kids?\" Mommy asked. She hugged them and checked if they were hurt.\n",
      "\"We're okay, Mommy. But our toys are broken,\" Lily said.\n",
      "\"I'm sorry, Lily. But toys are not important. You are important. We are safe and together. That's what matters,\" Mommy said.\n",
      "Tom felt sorry for what he did. He realized he was selfish and mean to his sister. He saw how scared she was during the earthquake. He wanted to make her happy.\n",
      "\"Lily, I'm sorry I did not share with you. You can have all the blocks you want. I love you, sister,\" Tom said.\n",
      "Lily smiled and hugged him. She forgave him and thanked him. She loved him too.\n",
      "They went back to the living room and cleaned up their toys. They decided to build something together. They made a big house with a garden and a fence. They put their cars and dolls inside. They were happy and proud of their work.\n",
      "Mommy and Daddy came to see their house. They praised them and gave them a treat. It was a lemon cake. It was sour, but they liked it. They learned that sharing is caring, and that family is sweet.\n",
      "<|endoftext|>\n",
      "\n",
      "Once upon a time there was a little girl named Lucy. She loved to go to the store to buy sweets with her mom and dad. On this special day, Lucy entered the store with her mom and dad, feeling so excited.\n",
      "As they were looking around, Lucy noticed a little girl playing with a toy in the corner of the store. She gasped in excitement and ran towards her. Lucy asked if she could play too but the little girl said no. She was rather grumpy and was not in the mood to play.\n",
      "Lucy's mom saw what was going on and told Lucy, \"Let's try to be peaceful and kind to her. Have patience and understanding. Together, you can both be happy!\"\n",
      "So, Lucy smiled at the girl and said, \"Can we play together?\" The little girl softened and smiled back. She agreed to share the toy and even let Lucy have a turn first.\n",
      "Lucy and the little girl played together happily. In the end, they both learnt an important lesson: be peaceful, kind, and understanding when faced with a conflict. And that is why Lucy and the little girl became great friends.\n",
      "<|endoftext|>\n"
     ]
    }
   ],
   "source": [
    "for line in valid_lines[0:31]:\n",
    "    print(line)"
   ]
  },
  {
   "cell_type": "code",
   "execution_count": null,
   "id": "683c4a3a-f92f-4fb7-86d1-4089a7ab6a29",
   "metadata": {},
   "outputs": [],
   "source": []
  }
 ],
 "metadata": {
  "kernelspec": {
   "display_name": "Python 3 (ipykernel)",
   "language": "python",
   "name": "python3"
  },
  "language_info": {
   "codemirror_mode": {
    "name": "ipython",
    "version": 3
   },
   "file_extension": ".py",
   "mimetype": "text/x-python",
   "name": "python",
   "nbconvert_exporter": "python",
   "pygments_lexer": "ipython3",
   "version": "3.9.19"
  }
 },
 "nbformat": 4,
 "nbformat_minor": 5
}
