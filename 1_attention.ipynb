{
 "cells": [
  {
   "cell_type": "code",
   "execution_count": 1,
   "id": "e4c0c7ce-a9e0-4371-a148-6a9f633418dc",
   "metadata": {},
   "outputs": [],
   "source": [
    "import os\n",
    "\n",
    "import pandas as pd\n",
    "\n",
    "import torch\n",
    "import torch.nn as nn\n",
    "from torch import Tensor"
   ]
  },
  {
   "cell_type": "markdown",
   "id": "1cc0d872-b1ee-47cb-af11-0bce05fa0cfe",
   "metadata": {},
   "source": [
    "# 1. Data"
   ]
  },
  {
   "cell_type": "markdown",
   "id": "8cb5896f-af34-4486-bcbc-797126b32205",
   "metadata": {},
   "source": [
    "## 1.1. Upload"
   ]
  },
  {
   "cell_type": "code",
   "execution_count": 2,
   "id": "56ebf479-6d84-4bcf-b668-8604247c9818",
   "metadata": {},
   "outputs": [],
   "source": [
    "DATASET_ROOT_P = os.path.join('./datasets')\n",
    "\n",
    "TRAIN_P = os.path.join(DATASET_ROOT_P, 'translation_tatoeba_train.csv')\n",
    "TEST_P = os.path.join(DATASET_ROOT_P, 'translation_tatoeba_test.csv')"
   ]
  },
  {
   "cell_type": "code",
   "execution_count": 3,
   "id": "8f8c69be-b95a-4226-a9fe-fa2183627636",
   "metadata": {},
   "outputs": [
    {
     "name": "stdout",
     "output_type": "stream",
     "text": [
      "train: 149904\n",
      "test: 16657\n"
     ]
    }
   ],
   "source": [
    "train_df = pd.read_csv(TRAIN_P)\n",
    "test_df = pd.read_csv(TEST_P)\n",
    "\n",
    "print(f'train: {train_df.shape[0]}')\n",
    "print(f'test: {test_df.shape[0]}')"
   ]
  },
  {
   "cell_type": "code",
   "execution_count": 4,
   "id": "65ab1787-db39-437e-b4b2-f7e42d4e0e02",
   "metadata": {},
   "outputs": [
    {
     "data": {
      "text/html": [
       "<div>\n",
       "<style scoped>\n",
       "    .dataframe tbody tr th:only-of-type {\n",
       "        vertical-align: middle;\n",
       "    }\n",
       "\n",
       "    .dataframe tbody tr th {\n",
       "        vertical-align: top;\n",
       "    }\n",
       "\n",
       "    .dataframe thead th {\n",
       "        text-align: right;\n",
       "    }\n",
       "</style>\n",
       "<table border=\"1\" class=\"dataframe\">\n",
       "  <thead>\n",
       "    <tr style=\"text-align: right;\">\n",
       "      <th></th>\n",
       "      <th>Eng</th>\n",
       "      <th>Fre</th>\n",
       "    </tr>\n",
       "  </thead>\n",
       "  <tbody>\n",
       "    <tr>\n",
       "      <th>0</th>\n",
       "      <td>I made a lot of mistakes.</td>\n",
       "      <td>J'ai commis de nombreuses erreurs.</td>\n",
       "    </tr>\n",
       "    <tr>\n",
       "      <th>1</th>\n",
       "      <td>I think I've already given you enough money.</td>\n",
       "      <td>Je pense que je t'ai déjà donné suffisamment d...</td>\n",
       "    </tr>\n",
       "    <tr>\n",
       "      <th>2</th>\n",
       "      <td>No one knows why Tom wanted to do that.</td>\n",
       "      <td>Personne ne sait pourquoi Tom voulait faire ça.</td>\n",
       "    </tr>\n",
       "  </tbody>\n",
       "</table>\n",
       "</div>"
      ],
      "text/plain": [
       "                                            Eng  \\\n",
       "0                     I made a lot of mistakes.   \n",
       "1  I think I've already given you enough money.   \n",
       "2       No one knows why Tom wanted to do that.   \n",
       "\n",
       "                                                 Fre  \n",
       "0                 J'ai commis de nombreuses erreurs.  \n",
       "1  Je pense que je t'ai déjà donné suffisamment d...  \n",
       "2    Personne ne sait pourquoi Tom voulait faire ça.  "
      ]
     },
     "execution_count": 4,
     "metadata": {},
     "output_type": "execute_result"
    }
   ],
   "source": [
    "train_df.head(3)"
   ]
  },
  {
   "cell_type": "markdown",
   "id": "ddbf41af-42f5-4711-a18b-2ab08507722b",
   "metadata": {},
   "source": [
    "## 1.2. Tokenization"
   ]
  },
  {
   "cell_type": "code",
   "execution_count": 5,
   "id": "13e20208-d368-42fe-a06f-2088d123a328",
   "metadata": {},
   "outputs": [],
   "source": [
    "from transformers import BertTokenizerFast"
   ]
  },
  {
   "cell_type": "code",
   "execution_count": 6,
   "id": "b320ec57-ec14-44bd-b066-6015fa2b8087",
   "metadata": {},
   "outputs": [],
   "source": [
    "tokenizer = BertTokenizerFast.from_pretrained(\"bert-base-multilingual-uncased\")"
   ]
  },
  {
   "cell_type": "code",
   "execution_count": 7,
   "id": "4fb7d27e-e0e8-4a65-948e-c768d81fbe2c",
   "metadata": {},
   "outputs": [
    {
     "data": {
      "text/plain": [
       "'Avez-vous quelques minutes ?'"
      ]
     },
     "execution_count": 7,
     "metadata": {},
     "output_type": "execute_result"
    }
   ],
   "source": [
    "_t_text = train_df['Fre'].iloc[6]\n",
    "_t_text"
   ]
  },
  {
   "cell_type": "code",
   "execution_count": 8,
   "id": "f747b520-57ba-4ff8-9d34-39e6560ea366",
   "metadata": {},
   "outputs": [],
   "source": [
    "inputs = tokenizer(_t_text, return_tensors=\"pt\")"
   ]
  },
  {
   "cell_type": "code",
   "execution_count": 9,
   "id": "91d79f0c-38d9-4cf9-b62a-3074bf5a78bb",
   "metadata": {},
   "outputs": [
    {
     "data": {
      "text/plain": [
       "{'input_ids': tensor([[  101, 26446, 10311,   118, 22812, 14994, 15021,   136,   102]]), 'token_type_ids': tensor([[0, 0, 0, 0, 0, 0, 0, 0, 0]]), 'attention_mask': tensor([[1, 1, 1, 1, 1, 1, 1, 1, 1]])}"
      ]
     },
     "execution_count": 9,
     "metadata": {},
     "output_type": "execute_result"
    }
   ],
   "source": [
    "inputs"
   ]
  },
  {
   "cell_type": "code",
   "execution_count": 10,
   "id": "777d5d68-f0fb-4cb3-9371-e8a170e91451",
   "metadata": {},
   "outputs": [
    {
     "data": {
      "text/plain": [
       "['[CLS]', 'ave', '##z', '-', 'vous', 'quelques', 'minutes', '?', '[SEP]']"
      ]
     },
     "execution_count": 10,
     "metadata": {},
     "output_type": "execute_result"
    }
   ],
   "source": [
    "inputs.tokens()"
   ]
  },
  {
   "cell_type": "code",
   "execution_count": 11,
   "id": "e69f6f92-c962-47b5-8428-8434a9d508b3",
   "metadata": {},
   "outputs": [
    {
     "data": {
      "text/plain": [
       "'avez - vous quelques minutes?'"
      ]
     },
     "execution_count": 11,
     "metadata": {},
     "output_type": "execute_result"
    }
   ],
   "source": [
    "tokenizer.decode(inputs[\"input_ids\"][0], skip_special_tokens=True)"
   ]
  },
  {
   "cell_type": "code",
   "execution_count": 12,
   "id": "d9f7d78c-65cb-4780-814e-a7e6d9ac4962",
   "metadata": {},
   "outputs": [
    {
     "data": {
      "text/plain": [
       "105879"
      ]
     },
     "execution_count": 12,
     "metadata": {},
     "output_type": "execute_result"
    }
   ],
   "source": [
    "tokenizer.vocab_size"
   ]
  },
  {
   "cell_type": "markdown",
   "id": "06e8f1c8-151a-418d-91e0-c185dd2b0150",
   "metadata": {},
   "source": [
    "# 2. Recursive Attention"
   ]
  },
  {
   "cell_type": "code",
   "execution_count": 13,
   "id": "d77eb1dc-1d93-405e-b6f6-ccb2ed8f91a7",
   "metadata": {},
   "outputs": [],
   "source": [
    "EMBEDDING_DIM = 384\n",
    "embedding = torch.nn.Embedding(num_embeddings=tokenizer.vocab_size, embedding_dim=EMBEDDING_DIM)"
   ]
  },
  {
   "cell_type": "code",
   "execution_count": 14,
   "id": "57d7102f-1612-4499-a74b-08f3008d491a",
   "metadata": {},
   "outputs": [
    {
     "name": "stdout",
     "output_type": "stream",
     "text": [
      "9\n",
      "torch.Size([9, 384])\n"
     ]
    }
   ],
   "source": [
    "print(len(inputs[\"input_ids\"][0]))\n",
    "print(embedding(inputs[\"input_ids\"][0]).shape)"
   ]
  },
  {
   "attachments": {
    "bc5b6be4-99d0-4787-b974-96b43311f375.png": {
     "image/png": "[encoded data removed]"
    }
   },
   "cell_type": "markdown",
   "id": "04f8ae19-2356-40fb-bf6e-6fdc366530b8",
   "metadata": {},
   "source": [
    "![image.png](attachment:bc5b6be4-99d0-4787-b974-96b43311f375.png)"
   ]
  },
  {
   "cell_type": "markdown",
   "id": "a85d1313-303d-4f27-9db9-2343b92e0f29",
   "metadata": {},
   "source": [
    "Обозначения:\n",
    "\n",
    "- $a(h,h')$ - функция сходства состояний входа $h$ и выхода $h'$\n",
    "- $\\alpha_{ti}$ - важность входа $i$ для выхода $t$ (attention score)\n",
    "- $c_t$ - вектор входного контекста для выхода $t$ (context vector)\n",
    "\n",
    "Устройство Encoder-Decoder с Attention Layer:\n",
    "\n",
    "$$\n",
    "h_i = f_{in}(x_i, h_{i-1})\n",
    "$$\n",
    "\n",
    "$$\n",
    "\\alpha_{ti} = norm_i a(h_i, h_{t-1}'), \\quad \\forall i\n",
    "$$\n",
    "\n",
    "$$\n",
    "c_t = \\sum_{i}{\n",
    "    \\alpha_{ti}h_i\n",
    "}\n",
    "$$\n",
    "\n",
    "$$\n",
    "h_t' = f_{out}(h'_{t-1}, y_{t-1}, c_t)\n",
    "$$\n",
    "\n",
    "$$\n",
    "y_t = f_y(h'_{t}, y_{t-1}, c_t)\n",
    "$$\n",
    "\n",
    "Где\n",
    "\n",
    "$$\n",
    "norm_i(p_i) = \\frac{p_i}{\\sum_k{p_k}}\n",
    "$$\n",
    "\n",
    "Пусть\n",
    "\n",
    "- $h_i = f_{in}(x_i, h_{i-1}) = \\sigma_h(Ux_t + Wh_{t-1})$\n",
    "- $h_t' = f_{out}(h'_{t-1}, y_{t-1}, c_t) = \\tanh{(W_{out}[h'_{t-1}, y_{t-1}, c_t])}$\n",
    "- $y_t = f_y(h'_{t}, y_{t-1}, c_t) = \\tanh{(W_{y}[h'_{t}, y_{t-1}, c_t])}$\n",
    "- $a(h,h') = h^Th'$ - скалярное произведение"
   ]
  },
  {
   "cell_type": "markdown",
   "id": "ec037925-61b0-4026-b055-425590523b48",
   "metadata": {},
   "source": [
    "## 2.1. Model"
   ]
  },
  {
   "cell_type": "code",
   "execution_count": 15,
   "id": "2fcaf635-65ac-40d0-80fd-aa1cf327fa34",
   "metadata": {},
   "outputs": [],
   "source": [
    "def norm_vect(x: Tensor) -> Tensor:\n",
    "    return x / x.sum()"
   ]
  },
  {
   "cell_type": "code",
   "execution_count": 16,
   "id": "8a7b0c1a-f022-4224-a93f-f3c8d10ffdb8",
   "metadata": {},
   "outputs": [],
   "source": [
    "class EncoderRNN(nn.Module):\n",
    "    def __init__(self, embedding_size: int, hidden_size: int = 512):\n",
    "        super(EncoderRNN, self).__init__()\n",
    "        self.embedding_size = embedding_size\n",
    "        self.hidden_size = hidden_size\n",
    "        # hidden states\n",
    "        self.enc_hidden = torch.randn(self.hidden_size, requires_grad=True)\n",
    "        # projections\n",
    "        self.U = torch.randn((self.embedding_size, self.hidden_size), requires_grad=True)\n",
    "        self.W = torch.randn((self.hidden_size, self.hidden_size), requires_grad=True)\n",
    "\n",
    "    def f_in(self, x_vect: Tensor, h_enc_vect: Tensor) -> Tensor:\n",
    "        return torch.nn.functional.sigmoid((x_vect @ self.U) + (self.W @ h_enc_vect))\n",
    "\n",
    "    def forward(self, x_seq: Tensor) -> Tensor:\n",
    "        h = [self.enc_hidden]\n",
    "        for xi in x_seq:\n",
    "            hi = self.f_in(xi, h[-1])\n",
    "            h.append(hi)\n",
    "        return torch.vstack(h[1:])"
   ]
  },
  {
   "cell_type": "code",
   "execution_count": 17,
   "id": "1f2b1f86-4b9e-4f9d-8e0e-463d3f29d264",
   "metadata": {},
   "outputs": [],
   "source": [
    "class DecoderRNN(nn.Module):\n",
    "    def __init__(self, hidden_size: int = 512):\n",
    "        super(DecoderRNN, self).__init__()\n",
    "        self.hidden_size = hidden_size\n",
    "        # hidden states\n",
    "        self.dec_hidden = torch.randn(self.hidden_size, requires_grad=True)\n",
    "        self.y_hidden = torch.randn(self.hidden_size, requires_grad=True)\n",
    "        # projections\n",
    "        self.W_out = torch.randn((3*self.hidden_size, self.hidden_size), requires_grad=True)\n",
    "        self.W_y = torch.randn((3*self.hidden_size, self.hidden_size), requires_grad=True)\n",
    "    \n",
    "    def f_out(self, h_prev: Tensor, y_prev: Tensor, ct: Tensor) -> Tensor:\n",
    "        concat = torch.cat([h_prev, y_prev, ct], dim=-1)\n",
    "        return torch.tanh(concat @ self.W_out)\n",
    "    \n",
    "    def f_y(self, ht: Tensor, y_prev: Tensor, ct: Tensor) -> Tensor:\n",
    "        concat = torch.cat([ht, y_prev, ct], dim=-1)\n",
    "        return torch.tanh(concat @ self.W_y)\n",
    "    \n",
    "    def forward(self, encoder_out: Tensor) -> list[Tensor]:\n",
    "        h_dec = [self.dec_hidden]\n",
    "        y = [self.y_hidden]\n",
    "        for out_idx in range(10):  # (yt)\n",
    "            att = norm_vect(encoder_out @ h_dec[-1])\n",
    "            ct = (att.view(-1, 1) * encoder_out).sum(axis=0)\n",
    "            ht = self.f_out(h_dec[-1], y[-1], ct)\n",
    "            h_dec.append(ht)\n",
    "            yt = self.f_y(h_dec[-1], y[-1], ct)\n",
    "            y.append(yt)\n",
    "        y = torch.stack(y[1:])\n",
    "        return y"
   ]
  },
  {
   "cell_type": "code",
   "execution_count": 18,
   "id": "e7d60b6e-1cd9-47de-b647-dfd92bea3b22",
   "metadata": {},
   "outputs": [],
   "source": [
    "class RecursiveAttention(nn.Module):\n",
    "    def __init__(self, embedding_size: int, hidden_size: int = 512):\n",
    "        super(RecursiveAttention, self).__init__()\n",
    "        self.embedding_size = embedding_size\n",
    "        self.hidden_size = hidden_size\n",
    "        # model\n",
    "        self.encoder = EncoderRNN(self.embedding_size, self.hidden_size)\n",
    "        self.decoder = DecoderRNN(self.hidden_size)\n",
    "\n",
    "    def forward(self, x_seq: Tensor) -> Tensor:\n",
    "        encoded = self.encoder(x_seq)\n",
    "        decoded = self.decoder(encoded)\n",
    "        return decoded"
   ]
  },
  {
   "cell_type": "code",
   "execution_count": 19,
   "id": "9ee8d687-24f6-4aeb-8310-4e7a6b746448",
   "metadata": {},
   "outputs": [],
   "source": [
    "BS = 8\n",
    "_t_text_batch = train_df['Eng'].iloc[:BS].tolist()\n",
    "_t_inputs = tokenizer(_t_text_batch, return_tensors=\"pt\", padding=True)"
   ]
  },
  {
   "cell_type": "code",
   "execution_count": 20,
   "id": "024a04fc-48a3-4bce-937a-195b1441da65",
   "metadata": {},
   "outputs": [
    {
     "data": {
      "text/plain": [
       "'[CLS] i made a lot of mistakes. [SEP] [PAD] [PAD] [PAD] [PAD] [PAD] [PAD] [PAD]'"
      ]
     },
     "execution_count": 20,
     "metadata": {},
     "output_type": "execute_result"
    }
   ],
   "source": [
    "tokenizer.decode(_t_inputs['input_ids'][0])"
   ]
  },
  {
   "cell_type": "code",
   "execution_count": 21,
   "id": "3ac33c77-2fad-46a6-bd51-6b03d1666163",
   "metadata": {},
   "outputs": [
    {
     "data": {
      "text/plain": [
       "tensor([  101,   151, 11050,   143, 15632, 10108, 83967, 10107,   119,   102,\n",
       "            0,     0,     0,     0,     0,     0,     0])"
      ]
     },
     "execution_count": 21,
     "metadata": {},
     "output_type": "execute_result"
    }
   ],
   "source": [
    "_t_inputs['input_ids'][0]"
   ]
  },
  {
   "cell_type": "code",
   "execution_count": 22,
   "id": "3636b047-08dd-4375-8879-953a74b3f67f",
   "metadata": {},
   "outputs": [
    {
     "data": {
      "text/plain": [
       "torch.Size([8, 17, 384])"
      ]
     },
     "execution_count": 22,
     "metadata": {},
     "output_type": "execute_result"
    }
   ],
   "source": [
    "t_batch = embedding(_t_inputs['input_ids'])\n",
    "t_batch.shape"
   ]
  },
  {
   "cell_type": "code",
   "execution_count": 23,
   "id": "7ea6686c-50fd-4b68-a60e-a38d6c81c672",
   "metadata": {},
   "outputs": [],
   "source": [
    "EMBEDDING_DIM = 384\n",
    "HIDDEN_SIZE = 512\n",
    "\n",
    "rec_att = RecursiveAttention(EMBEDDING_DIM, HIDDEN_SIZE)"
   ]
  },
  {
   "cell_type": "code",
   "execution_count": 24,
   "id": "a7a65ef6-8cfa-4f04-8d30-016f57ff88c3",
   "metadata": {},
   "outputs": [
    {
     "data": {
      "text/plain": [
       "torch.Size([17, 384])"
      ]
     },
     "execution_count": 24,
     "metadata": {},
     "output_type": "execute_result"
    }
   ],
   "source": [
    "t_batch[0].shape"
   ]
  },
  {
   "cell_type": "code",
   "execution_count": 25,
   "id": "92517e6e-2f57-4a99-ace0-36b3b03b2b82",
   "metadata": {},
   "outputs": [
    {
     "data": {
      "text/plain": [
       "torch.Size([10, 512])"
      ]
     },
     "execution_count": 25,
     "metadata": {},
     "output_type": "execute_result"
    }
   ],
   "source": [
    "rec_att(t_batch[0]).shape"
   ]
  },
  {
   "cell_type": "code",
   "execution_count": null,
   "id": "14ed6c5c-de19-4feb-85a7-ea726724e798",
   "metadata": {},
   "outputs": [],
   "source": []
  },
  {
   "cell_type": "code",
   "execution_count": null,
   "id": "249f5a4a-206a-4a91-90d6-ad547065ed89",
   "metadata": {},
   "outputs": [],
   "source": []
  },
  {
   "cell_type": "code",
   "execution_count": null,
   "id": "9525eadc-6aa1-4a95-8530-596f991d2831",
   "metadata": {},
   "outputs": [],
   "source": []
  },
  {
   "cell_type": "code",
   "execution_count": null,
   "id": "f0f3e9d8-371c-48fd-b41c-52052d0ac454",
   "metadata": {},
   "outputs": [],
   "source": []
  }
 ],
 "metadata": {
  "kernelspec": {
   "display_name": "Python 3 (ipykernel)",
   "language": "python",
   "name": "python3"
  },
  "language_info": {
   "codemirror_mode": {
    "name": "ipython",
    "version": 3
   },
   "file_extension": ".py",
   "mimetype": "text/x-python",
   "name": "python",
   "nbconvert_exporter": "python",
   "pygments_lexer": "ipython3",
   "version": "3.9.19"
  }
 },
 "nbformat": 4,
 "nbformat_minor": 5
}
